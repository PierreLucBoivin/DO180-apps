{
  "nbformat": 4,
  "nbformat_minor": 5,
  "metadata": {
    "kernelspec": {
      "display_name": "Python 3",
      "language": "python",
      "name": "python3"
    },
    "language_info": {
      "codemirror_mode": {
        "name": "ipython",
        "version": 3
      },
      "file_extension": ".py",
      "mimetype": "text/x-python",
      "name": "python",
      "nbconvert_exporter": "python",
      "pygments_lexer": "ipython3",
      "version": "3.7.3"
    },
    "colab": {
      "name": "inf8460_A21_TP2_squelette.ipynb",
      "provenance": []
    },
    "accelerator": "GPU"
  },
  "cells": [
    {
      "cell_type": "markdown",
      "metadata": {
        "id": "C7hcHrMr42hh"
      },
      "source": [
        "### École Polytechnique de Montréal <br> Département Génie Informatique et Génie Logiciel <br>  INF8460 – Traitement automatique de la langue naturelle <br> \n",
        "# <center> TP2 INF8460 <br>  Automne 2021 </center>"
      ],
      "id": "C7hcHrMr42hh"
    },
    {
      "cell_type": "markdown",
      "metadata": {
        "id": "pkPkPKVI42hj"
      },
      "source": [
        "## 1. DESCRIPTION\n",
        "Le but de ce TP est de comparer différents classificateurs que vous allez entraîner à reconnaitre le genre (masculin, féminin) d'un blogueur."
      ],
      "id": "pkPkPKVI42hj"
    },
    {
      "cell_type": "markdown",
      "metadata": {
        "id": "_nV0fQfs42hk"
      },
      "source": [
        "## 2. LIBRAIRIES PERMISES\n",
        "- Jupyter notebook\n",
        "- NLTK\n",
        "- Numpy \n",
        "- Pandas\n",
        "- Sklearn\n",
        "- Keras\n",
        "\n",
        "Pour toute autre librairie, demandez à votre chargé de laboratoire via le forum du cours sur Moodle."
      ],
      "id": "_nV0fQfs42hk"
    },
    {
      "cell_type": "markdown",
      "metadata": {
        "id": "FClIwJTq42hk"
      },
      "source": [
        "## 3. INFRASTRUCTURE\n",
        "\n",
        "- Vous avez accès aux GPU du local L-4818. Dans ce cas, vous devez utiliser le dossier temp (voir le tutoriel VirtualEnv.pdf)\n",
        "- Vous pouvez aussi utiliser l’environnement Google Colab: https://colab.research.google.com/"
      ],
      "id": "FClIwJTq42hk"
    },
    {
      "cell_type": "markdown",
      "metadata": {
        "id": "8u99j2YO42hl"
      },
      "source": [
        "## 4. DESCRIPTION DES DONNEES\n",
        "\n",
        "Plusieurs fichiers au format csv sont disponibles et sont extraits de blogs échangés sur Blogger.com. Les données sont disponibles dans le répertoire data. \n",
        "\n",
        "Elles ont la forme suivante:\n",
        "- Train: contient 7 000 exemples de blogs écrits par des hommes et des femmes\n",
        "- Val: contient 1 000 exemples\n",
        "- Test: contient 2 000 exemples"
      ],
      "id": "8u99j2YO42hl"
    },
    {
      "cell_type": "markdown",
      "metadata": {
        "id": "GZ2qZ9zX42hm"
      },
      "source": [
        "## 5. ETAPES DU TP \n",
        "À partir du présent notebook inf8460_A21_TP2, vous devez réaliser les étapes suivantes. (Noter que les cellules sont là à titre informatif, il est fort probable que vous rajoutiez des sections au fur et à mesure de votre TP)."
      ],
      "id": "GZ2qZ9zX42hm"
    },
    {
      "cell_type": "markdown",
      "metadata": {
        "id": "smA7iqmD42hm"
      },
      "source": [
        "Ci-dessous définir la constante _PATH_ qui doit être utilisée par votre code pour accéder aux fichiers. Il est attendu que pour la correction, le chargé de lab n'ait qu'à changer la valeur de _PATH_ pour le répertoire où se trouver les fichiers de datasets."
      ],
      "id": "smA7iqmD42hm"
    },
    {
      "cell_type": "code",
      "metadata": {
        "colab": {
          "base_uri": "https://localhost:8080/"
        },
        "id": "gZjhIQTp42hm",
        "outputId": "06ee230d-e447-42ba-94d5-0e366e3342c3"
      },
      "source": [
        "import pandas as pd\n",
        "import numpy as np\n",
        "import nltk as nl\n",
        "import sklearn as sk\n",
        "from sklearn.naive_bayes import GaussianNB\n",
        "from sklearn.naive_bayes import MultinomialNB\n",
        "from sklearn.naive_bayes import CategoricalNB\n",
        "from sklearn.linear_model import LogisticRegression\n",
        "from sklearn import metrics\n",
        "from sklearn.feature_extraction.text import TfidfVectorizer\n",
        "from sklearn.model_selection import GridSearchCV\n",
        "from sklearn.metrics import classification_report, confusion_matrix \n",
        "from sklearn.pipeline import Pipeline\n",
        "\n",
        "from scipy import sparse\n",
        "\n",
        "import re as re\n",
        "import pickle\n",
        "from nltk.tokenize import word_tokenize\n",
        "from nltk.corpus import stopwords\n",
        "from nltk.stem import PorterStemmer\n",
        "from nltk.stem.wordnet import WordNetLemmatizer\n",
        "import tensorflow as tf\n",
        "from tensorflow.keras.layers import LSTM\n",
        "from tensorflow.keras.layers import Dense\n",
        "from tensorflow.keras.layers import Embedding\n",
        "from tensorflow.keras.layers import Bidirectional\n",
        "from tensorflow.keras import Sequential\n",
        "from tensorflow.keras.callbacks import EarlyStopping, ModelCheckpoint\n",
        "\n",
        "\n",
        "import matplotlib.pyplot as plt\n",
        "nl.download(\"punkt\")\n",
        "nl.download(\"stopwords\")\n",
        "nl.download('wordnet')\n",
        "stop_words = set(stopwords.words('english'))\n",
        "# PATH = \"drive/MyDrive/data/TP2/\"\n",
        "PATH = \"NLP_INF8460/TP2/Squelette et données/data/\""
      ],
      "id": "gZjhIQTp42hm",
      "execution_count": 1,
      "outputs": [
        {
          "output_type": "stream",
          "name": "stderr",
          "text": [
            "[nltk_data] Downloading package punkt to C:\\Users\\Pierre-\n",
            "[nltk_data]     LucBoivin\\AppData\\Roaming\\nltk_data...\n",
            "[nltk_data]   Package punkt is already up-to-date!\n",
            "[nltk_data] Downloading package stopwords to C:\\Users\\Pierre-\n",
            "[nltk_data]     LucBoivin\\AppData\\Roaming\\nltk_data...\n",
            "[nltk_data]   Package stopwords is already up-to-date!\n",
            "[nltk_data] Downloading package wordnet to C:\\Users\\Pierre-\n",
            "[nltk_data]     LucBoivin\\AppData\\Roaming\\nltk_data...\n",
            "[nltk_data]   Package wordnet is already up-to-date!\n"
          ]
        }
      ]
    },
    {
      "cell_type": "code",
      "metadata": {
        "colab": {
          "base_uri": "https://localhost:8080/",
          "height": 359
        },
        "id": "6big2z725xNB",
        "outputId": "02fbf328-8575-46c0-c997-f974c597437c"
      },
      "source": [
        "#from google.colab import drive\n",
        "#drive.mount('/content/drive')\n",
        "\n",
        "train = pd.read_csv(PATH+'train.csv')\n",
        "valid = pd.read_csv(PATH+'valid.csv')\n",
        "test = pd.read_csv(PATH+'test.csv')\n",
        "train.head(10)"
      ],
      "id": "6big2z725xNB",
      "execution_count": 2,
      "outputs": [
        {
          "output_type": "execute_result",
          "data": {
            "text/plain": [
              "        id  gender        topic  \\\n",
              "0   883178    male      Fashion   \n",
              "1  1103575  female       indUnk   \n",
              "2  4192173    male   Technology   \n",
              "3   883178    male      Fashion   \n",
              "4   649790  female       indUnk   \n",
              "5   766556  female       indUnk   \n",
              "6  2844168  female    Marketing   \n",
              "7  3176411    male  Engineering   \n",
              "8   589736    male   Technology   \n",
              "9   589736    male   Technology   \n",
              "\n",
              "                                                text  \n",
              "0              I Think I'm Going to Hyperventilat...  \n",
              "1         I blogged out on xanga... silly Rachel....  \n",
              "2               Literally. As I type this at 4:40...  \n",
              "3              Don't Buy a Skirt on Sale   So I g...  \n",
              "4                New Silly Song ahead...  The sun...  \n",
              "5          Any excuse for a party  I was up late ...  \n",
              "6            'How many times can this 'flop' flip...  \n",
              "7                    urlLink mythtv utilities         \n",
              "8             Well, I guess I have a more updated...  \n",
              "9                    urlLink useful advice            "
            ],
            "text/html": [
              "<div>\n",
              "<style scoped>\n",
              "    .dataframe tbody tr th:only-of-type {\n",
              "        vertical-align: middle;\n",
              "    }\n",
              "\n",
              "    .dataframe tbody tr th {\n",
              "        vertical-align: top;\n",
              "    }\n",
              "\n",
              "    .dataframe thead th {\n",
              "        text-align: right;\n",
              "    }\n",
              "</style>\n",
              "<table border=\"1\" class=\"dataframe\">\n",
              "  <thead>\n",
              "    <tr style=\"text-align: right;\">\n",
              "      <th></th>\n",
              "      <th>id</th>\n",
              "      <th>gender</th>\n",
              "      <th>topic</th>\n",
              "      <th>text</th>\n",
              "    </tr>\n",
              "  </thead>\n",
              "  <tbody>\n",
              "    <tr>\n",
              "      <th>0</th>\n",
              "      <td>883178</td>\n",
              "      <td>male</td>\n",
              "      <td>Fashion</td>\n",
              "      <td>I Think I'm Going to Hyperventilat...</td>\n",
              "    </tr>\n",
              "    <tr>\n",
              "      <th>1</th>\n",
              "      <td>1103575</td>\n",
              "      <td>female</td>\n",
              "      <td>indUnk</td>\n",
              "      <td>I blogged out on xanga... silly Rachel....</td>\n",
              "    </tr>\n",
              "    <tr>\n",
              "      <th>2</th>\n",
              "      <td>4192173</td>\n",
              "      <td>male</td>\n",
              "      <td>Technology</td>\n",
              "      <td>Literally. As I type this at 4:40...</td>\n",
              "    </tr>\n",
              "    <tr>\n",
              "      <th>3</th>\n",
              "      <td>883178</td>\n",
              "      <td>male</td>\n",
              "      <td>Fashion</td>\n",
              "      <td>Don't Buy a Skirt on Sale   So I g...</td>\n",
              "    </tr>\n",
              "    <tr>\n",
              "      <th>4</th>\n",
              "      <td>649790</td>\n",
              "      <td>female</td>\n",
              "      <td>indUnk</td>\n",
              "      <td>New Silly Song ahead...  The sun...</td>\n",
              "    </tr>\n",
              "    <tr>\n",
              "      <th>5</th>\n",
              "      <td>766556</td>\n",
              "      <td>female</td>\n",
              "      <td>indUnk</td>\n",
              "      <td>Any excuse for a party  I was up late ...</td>\n",
              "    </tr>\n",
              "    <tr>\n",
              "      <th>6</th>\n",
              "      <td>2844168</td>\n",
              "      <td>female</td>\n",
              "      <td>Marketing</td>\n",
              "      <td>'How many times can this 'flop' flip...</td>\n",
              "    </tr>\n",
              "    <tr>\n",
              "      <th>7</th>\n",
              "      <td>3176411</td>\n",
              "      <td>male</td>\n",
              "      <td>Engineering</td>\n",
              "      <td>urlLink mythtv utilities</td>\n",
              "    </tr>\n",
              "    <tr>\n",
              "      <th>8</th>\n",
              "      <td>589736</td>\n",
              "      <td>male</td>\n",
              "      <td>Technology</td>\n",
              "      <td>Well, I guess I have a more updated...</td>\n",
              "    </tr>\n",
              "    <tr>\n",
              "      <th>9</th>\n",
              "      <td>589736</td>\n",
              "      <td>male</td>\n",
              "      <td>Technology</td>\n",
              "      <td>urlLink useful advice</td>\n",
              "    </tr>\n",
              "  </tbody>\n",
              "</table>\n",
              "</div>"
            ]
          },
          "metadata": {},
          "execution_count": 2
        }
      ]
    },
    {
      "cell_type": "markdown",
      "metadata": {
        "id": "FTSxXbCo42ho"
      },
      "source": [
        "### 5.1. prétraitement et description des données (10%)\n",
        "\n",
        "1. (4 points) Effectuez le pré-traitement suivant sur le champ *text*: convertir le texte en minuscules, supprimer les stopwords et gardez les signes de ponctuation."
      ],
      "id": "FTSxXbCo42ho"
    },
    {
      "cell_type": "code",
      "metadata": {
        "id": "_ZVgtSUr42ho"
      },
      "source": [
        "def preprocess(sentences):\n",
        "  results = []\n",
        "  for sentence in sentences:\n",
        "    result = re.sub(\"[^\\w\\s!\\\"#$%&'*,-.:;?@]\", '', sentence)\n",
        "    results.append(result.lower())\n",
        "  return results\n",
        "\n",
        "def tokenize(preprocessed_sentences):\n",
        "  return [word_tokenize(sentence) for sentence in preprocessed_sentences]\n",
        "\n",
        "def remove_stopwords(tokenized_sentences):\n",
        "  filtered = []\n",
        "  for sentence in tokenized_sentences:\n",
        "    filtered.append([word for word in sentence if word not in stop_words])\n",
        "  return filtered"
      ],
      "id": "_ZVgtSUr42ho",
      "execution_count": 3,
      "outputs": []
    },
    {
      "cell_type": "code",
      "metadata": {
        "id": "VB9CLbqa8tAt"
      },
      "source": [
        "train['preprocessed'] = preprocess(train['text'])\n",
        "test['preprocessed'] = preprocess(test['text'])\n",
        "valid['preprocessed'] = preprocess(valid['text'])"
      ],
      "id": "VB9CLbqa8tAt",
      "execution_count": 4,
      "outputs": []
    },
    {
      "cell_type": "code",
      "metadata": {
        "id": "VjnM00bPC5rJ"
      },
      "source": [
        "train['tokenized'] = tokenize(train['preprocessed'])\n",
        "test['tokenized'] = tokenize(test['preprocessed'])\n",
        "valid['tokenized'] = tokenize(valid['preprocessed'])"
      ],
      "id": "VjnM00bPC5rJ",
      "execution_count": 5,
      "outputs": []
    },
    {
      "cell_type": "code",
      "metadata": {
        "id": "zEHVDCymCP-_"
      },
      "source": [
        "train['no_stopwords'] = remove_stopwords(train['tokenized'])\n",
        "test['no_stopwords'] = remove_stopwords(test['tokenized'])\n",
        "valid['no_stopwords'] = remove_stopwords(valid['tokenized'])\n"
      ],
      "id": "zEHVDCymCP-_",
      "execution_count": 6,
      "outputs": []
    },
    {
      "cell_type": "code",
      "metadata": {
        "colab": {
          "base_uri": "https://localhost:8080/",
          "height": 204
        },
        "id": "9Dmm5Fy1FuwQ",
        "outputId": "19dc1810-5ea2-4a49-f110-0b8cf8319907"
      },
      "source": [
        "train.head()"
      ],
      "id": "9Dmm5Fy1FuwQ",
      "execution_count": 7,
      "outputs": [
        {
          "output_type": "execute_result",
          "data": {
            "text/plain": [
              "        id  gender       topic  \\\n",
              "0   883178    male     Fashion   \n",
              "1  1103575  female      indUnk   \n",
              "2  4192173    male  Technology   \n",
              "3   883178    male     Fashion   \n",
              "4   649790  female      indUnk   \n",
              "\n",
              "                                                text  \\\n",
              "0              I Think I'm Going to Hyperventilat...   \n",
              "1         I blogged out on xanga... silly Rachel....   \n",
              "2               Literally. As I type this at 4:40...   \n",
              "3              Don't Buy a Skirt on Sale   So I g...   \n",
              "4                New Silly Song ahead...  The sun...   \n",
              "\n",
              "                                        preprocessed  \\\n",
              "0              i think i'm going to hyperventilat...   \n",
              "1         i blogged out on xanga... silly rachel....   \n",
              "2               literally. as i type this at 4:40...   \n",
              "3              don't buy a skirt on sale   so i g...   \n",
              "4                new silly song ahead...  the sun...   \n",
              "\n",
              "                                           tokenized  \\\n",
              "0  [i, think, i, 'm, going, to, hyperventilate, i...   \n",
              "1  [i, blogged, out, on, xanga, ..., silly, rache...   \n",
              "2  [literally, ., as, i, type, this, at, 4:40, a....   \n",
              "3  [do, n't, buy, a, skirt, on, sale, so, i, go, ...   \n",
              "4  [new, silly, song, ahead, ..., the, sun, 's, s...   \n",
              "\n",
              "                                        no_stopwords  \n",
              "0  [think, 'm, going, hyperventilate, found, tick...  \n",
              "1            [blogged, xanga, ..., silly, rachel, .]  \n",
              "2  [literally, ., type, 4:40, a.m., tuesday, ,, b...  \n",
              "3  [n't, buy, skirt, sale, go, urllink, anthropol...  \n",
              "4  [new, silly, song, ahead, ..., sun, 's, shing,...  "
            ],
            "text/html": [
              "<div>\n",
              "<style scoped>\n",
              "    .dataframe tbody tr th:only-of-type {\n",
              "        vertical-align: middle;\n",
              "    }\n",
              "\n",
              "    .dataframe tbody tr th {\n",
              "        vertical-align: top;\n",
              "    }\n",
              "\n",
              "    .dataframe thead th {\n",
              "        text-align: right;\n",
              "    }\n",
              "</style>\n",
              "<table border=\"1\" class=\"dataframe\">\n",
              "  <thead>\n",
              "    <tr style=\"text-align: right;\">\n",
              "      <th></th>\n",
              "      <th>id</th>\n",
              "      <th>gender</th>\n",
              "      <th>topic</th>\n",
              "      <th>text</th>\n",
              "      <th>preprocessed</th>\n",
              "      <th>tokenized</th>\n",
              "      <th>no_stopwords</th>\n",
              "    </tr>\n",
              "  </thead>\n",
              "  <tbody>\n",
              "    <tr>\n",
              "      <th>0</th>\n",
              "      <td>883178</td>\n",
              "      <td>male</td>\n",
              "      <td>Fashion</td>\n",
              "      <td>I Think I'm Going to Hyperventilat...</td>\n",
              "      <td>i think i'm going to hyperventilat...</td>\n",
              "      <td>[i, think, i, 'm, going, to, hyperventilate, i...</td>\n",
              "      <td>[think, 'm, going, hyperventilate, found, tick...</td>\n",
              "    </tr>\n",
              "    <tr>\n",
              "      <th>1</th>\n",
              "      <td>1103575</td>\n",
              "      <td>female</td>\n",
              "      <td>indUnk</td>\n",
              "      <td>I blogged out on xanga... silly Rachel....</td>\n",
              "      <td>i blogged out on xanga... silly rachel....</td>\n",
              "      <td>[i, blogged, out, on, xanga, ..., silly, rache...</td>\n",
              "      <td>[blogged, xanga, ..., silly, rachel, .]</td>\n",
              "    </tr>\n",
              "    <tr>\n",
              "      <th>2</th>\n",
              "      <td>4192173</td>\n",
              "      <td>male</td>\n",
              "      <td>Technology</td>\n",
              "      <td>Literally. As I type this at 4:40...</td>\n",
              "      <td>literally. as i type this at 4:40...</td>\n",
              "      <td>[literally, ., as, i, type, this, at, 4:40, a....</td>\n",
              "      <td>[literally, ., type, 4:40, a.m., tuesday, ,, b...</td>\n",
              "    </tr>\n",
              "    <tr>\n",
              "      <th>3</th>\n",
              "      <td>883178</td>\n",
              "      <td>male</td>\n",
              "      <td>Fashion</td>\n",
              "      <td>Don't Buy a Skirt on Sale   So I g...</td>\n",
              "      <td>don't buy a skirt on sale   so i g...</td>\n",
              "      <td>[do, n't, buy, a, skirt, on, sale, so, i, go, ...</td>\n",
              "      <td>[n't, buy, skirt, sale, go, urllink, anthropol...</td>\n",
              "    </tr>\n",
              "    <tr>\n",
              "      <th>4</th>\n",
              "      <td>649790</td>\n",
              "      <td>female</td>\n",
              "      <td>indUnk</td>\n",
              "      <td>New Silly Song ahead...  The sun...</td>\n",
              "      <td>new silly song ahead...  the sun...</td>\n",
              "      <td>[new, silly, song, ahead, ..., the, sun, 's, s...</td>\n",
              "      <td>[new, silly, song, ahead, ..., sun, 's, shing,...</td>\n",
              "    </tr>\n",
              "  </tbody>\n",
              "</table>\n",
              "</div>"
            ]
          },
          "metadata": {},
          "execution_count": 7
        }
      ]
    },
    {
      "cell_type": "markdown",
      "metadata": {
        "id": "4vzbN-4342ho"
      },
      "source": [
        "2. (3 points) Calculez les statistiques suivantes: Nombre total de types; Nombre total de types/genre; top 20 des types les plus fréquents par genre (male/female)."
      ],
      "id": "4vzbN-4342ho"
    },
    {
      "cell_type": "code",
      "metadata": {
        "id": "hyQ2sFqT42hp"
      },
      "source": [
        "def count_types(text):\n",
        "  total_count = 0\n",
        "  for sentence in text :\n",
        "    _, count = np.unique(sentence, return_counts=True)\n",
        "    total_count += len(count)\n",
        "  return total_count\n",
        "\n",
        "def topUsed(text):\n",
        "  dict = {}\n",
        "  for sentence in text :\n",
        "    words, count = np.unique(sentence, return_counts=True)\n",
        "    for i, word in enumerate(words):\n",
        "      if word not in dict:\n",
        "        dict[word] = 1\n",
        "      else:\n",
        "        dict[word] +=count[i]\n",
        "  return dict\n"
      ],
      "id": "hyQ2sFqT42hp",
      "execution_count": 8,
      "outputs": []
    },
    {
      "cell_type": "code",
      "metadata": {
        "colab": {
          "base_uri": "https://localhost:8080/"
        },
        "id": "lZxYJiXrO5Qy",
        "outputId": "6129ba6d-5de5-4172-c0db-94433584f988"
      },
      "source": [
        "male_text = train.loc[train.gender == 'male']\n",
        "female_text = train.loc[train.gender == 'female']\n",
        "print('Nombre total de types:',count_types(train['no_stopwords']))\n",
        "print('Nombre de types utilisés par les hommes:', count_types(male_text['no_stopwords']))\n",
        "print('Nombre de types utilisés par les femmes:', count_types(female_text['no_stopwords']))\n",
        "top_male = topUsed(male_text['no_stopwords'])\n",
        "print('Top 20 types les plus fréquents pour les hommes:',sorted(top_male, key=top_male.get, reverse=True)[:20])\n",
        "top_female = topUsed(female_text['no_stopwords'])\n",
        "print('Top 20 types les plus fréquents pour les femmes:',sorted(top_female, key=top_female.get, reverse=True)[:20])"
      ],
      "id": "lZxYJiXrO5Qy",
      "execution_count": 9,
      "outputs": [
        {
          "output_type": "stream",
          "name": "stdout",
          "text": [
            "Nombre total de types: 496445\n",
            "Nombre de types utilisés par les hommes: 269636\n",
            "Nombre de types utilisés par les femmes: 226809\n",
            "Top 20 types les plus fréquents pour les hommes: ['.', ',', \"'s\", \"'\", '?', '...', '!', \"n't\", ':', 'like', 'one', \"'m\", ';', '-', 'would', 'get', 'time', '&', 'know', 'urllink']\n",
            "Top 20 types les plus fréquents pour les femmes: ['.', ',', '!', '...', \"'s\", \"n't\", '?', \"'\", ';', \"'m\", '&', 'like', '..', 'nbsp', ':', 'one', 'know', 'really', 'get', 'urllink']\n"
          ]
        }
      ]
    },
    {
      "cell_type": "markdown",
      "metadata": {
        "id": "kanosbLT42hp"
      },
      "source": [
        "3. (3 points) Dans deux figures séparées, affichez la distribution des sujets (topics) en termes de fréquence pour les hommes (male) et les femmes (female)."
      ],
      "id": "kanosbLT42hp"
    },
    {
      "cell_type": "code",
      "metadata": {
        "id": "pNuRAW9i42hp"
      },
      "source": [
        "male_topics = topUsed(male_text['topic'])\n",
        "female_topics = topUsed(female_text['topic'])"
      ],
      "id": "pNuRAW9i42hp",
      "execution_count": 10,
      "outputs": []
    },
    {
      "cell_type": "code",
      "metadata": {
        "colab": {
          "base_uri": "https://localhost:8080/",
          "height": 281
        },
        "id": "QMhxXzrKRI_G",
        "outputId": "c902e5b0-3ec9-4fbe-a0b8-704a526805ea"
      },
      "source": [
        "fig, ax = plt.subplots()\n",
        "y = range(len(male_topics.keys()))\n",
        "ax.barh(y, [v/len(male_text) for v in male_topics.values()])\n",
        "ax.set_yticks(y)\n",
        "ax.set_yticklabels(male_topics.keys())\n",
        "ax.set_title('Distribution des sujets pour les hommes')\n",
        "plt.show()"
      ],
      "id": "QMhxXzrKRI_G",
      "execution_count": 11,
      "outputs": [
        {
          "output_type": "display_data",
          "data": {
            "text/plain": [
              "<Figure size 432x288 with 1 Axes>"
            ],
            "image/png": "[encoded data removed]"
          },
          "metadata": {
            "needs_background": "light"
          }
        }
      ]
    },
    {
      "cell_type": "code",
      "metadata": {
        "colab": {
          "base_uri": "https://localhost:8080/",
          "height": 281
        },
        "id": "u86SDrnlRIw7",
        "outputId": "cb1a6ea1-3668-43ac-91b6-8d0a9b522ce8"
      },
      "source": [
        "fig, ax = plt.subplots()\n",
        "y = range(len(female_topics.keys()))\n",
        "ax.barh(y, [v/len(female_text) for v in female_topics.values()])\n",
        "ax.set_yticks(y)\n",
        "ax.set_yticklabels(female_topics.keys())\n",
        "ax.set_title('Distribution des sujets pour les femmes')\n",
        "plt.show()"
      ],
      "id": "u86SDrnlRIw7",
      "execution_count": 12,
      "outputs": [
        {
          "output_type": "display_data",
          "data": {
            "text/plain": [
              "<Figure size 432x288 with 1 Axes>"
            ],
            "image/png": "[encoded data removed]"
          },
          "metadata": {
            "needs_background": "light"
          }
        }
      ]
    },
    {
      "cell_type": "markdown",
      "metadata": {
        "id": "qIGOmqCs42hq"
      },
      "source": [
        "### 5.2. Classification traditionnelle à base de textes (35%)"
      ],
      "id": "qIGOmqCs42hq"
    },
    {
      "cell_type": "markdown",
      "metadata": {
        "id": "MrU_bGXH42hq"
      },
      "source": [
        "1. (10 points) Implémentez un classificateur Naïve Bayes et de régression logistique avec sklearn se basant sur un modèle sac de mots unigrame du contenu des blogues, pondéré avec TF-IDF."
      ],
      "id": "MrU_bGXH42hq"
    },
    {
      "cell_type": "code",
      "metadata": {
        "id": "Hw4F5UobgHxy"
      },
      "source": [
        "def pickler(variable,filename):\n",
        "  with open(filename + '.pickle', 'wb') as handle:\n",
        "    pickle.dump(variable, handle, protocol=pickle.HIGHEST_PROTOCOL)\n",
        "\n",
        "def unpickler(filename):\n",
        "  with open(filename + '.pickle', 'rb') as handle:\n",
        "      return pickle.load(handle)"
      ],
      "id": "Hw4F5UobgHxy",
      "execution_count": 13,
      "outputs": []
    },
    {
      "cell_type": "code",
      "metadata": {
        "id": "5DiP_BILJdF8"
      },
      "source": [
        "train_join = []\n",
        "for line in train['no_stopwords']:\n",
        "  train_join.append(' '.join(line))\n",
        "\n",
        "test_join = []\n",
        "for line in test['no_stopwords']:\n",
        "  test_join.append(' '.join(line))\n",
        "\n",
        "valid_join = []\n",
        "for line in valid['no_stopwords']:\n",
        "  valid_join.append(' '.join(line))\n",
        "\n",
        "corpus = train_join + test_join + valid_join\n",
        "# corpus = train_purged_join"
      ],
      "id": "5DiP_BILJdF8",
      "execution_count": 14,
      "outputs": []
    },
    {
      "cell_type": "code",
      "metadata": {
        "id": "W1P6KtyB-9WX"
      },
      "source": [
        "le = sk.preprocessing.LabelEncoder()\n",
        "le.fit(train['topic'])\n",
        "train_labels = le.transform(train['topic'])\n",
        "possible_classes = le.transform(le.classes_)"
      ],
      "id": "W1P6KtyB-9WX",
      "execution_count": 15,
      "outputs": []
    },
    {
      "cell_type": "code",
      "metadata": {
        "id": "SM807ptysuT4"
      },
      "source": [
        "tfidf_1_vec = TfidfVectorizer(ngram_range=(1,1)).fit(corpus)\n",
        "\n",
        "uni_features = tfidf_1_vec.transform(train_join)\n",
        "NB1 = MultinomialNB().fit(uni_features,train_labels)\n",
        "LR1 = LogisticRegression(max_iter=1000).fit(uni_features,train_labels)"
      ],
      "id": "SM807ptysuT4",
      "execution_count": 16,
      "outputs": []
    },
    {
      "cell_type": "markdown",
      "metadata": {
        "id": "uhDGryG742hq"
      },
      "source": [
        "2. (10 points) Implémentez un classificateur Naïve Bayes et de régression logistique avec sklearn se basant sur un modèle sac de mots unigrame **et** bigramme du contenu des blogues, pondéré avec TF-IDF."
      ],
      "id": "uhDGryG742hq"
    },
    {
      "cell_type": "code",
      "metadata": {
        "id": "5k8eK5KsQuVk"
      },
      "source": [
        "tfidf_2_vec = TfidfVectorizer(ngram_range=(1,2)).fit(corpus)\n",
        "\n",
        "unibi_features = tfidf_2_vec.transform(train_join)\n",
        "NB2 = MultinomialNB().fit(unibi_features,train_labels)\n",
        "LR2 = LogisticRegression(max_iter=1000).fit(unibi_features,train_labels)"
      ],
      "id": "5k8eK5KsQuVk",
      "execution_count": 17,
      "outputs": []
    },
    {
      "cell_type": "code",
      "metadata": {
        "id": "BWjlNWyPDLGZ"
      },
      "source": [
        "pickler(NB1,PATH + 'NB1')\n",
        "pickler(NB2,PATH + 'NB2')\n",
        "pickler(LR1,PATH + 'LR1')\n",
        "pickler(LR2,PATH + 'LR2')"
      ],
      "id": "BWjlNWyPDLGZ",
      "execution_count": 18,
      "outputs": []
    },
    {
      "cell_type": "markdown",
      "metadata": {
        "id": "lTO1YUWd42hr"
      },
      "source": [
        "3. (5 points) Testez vos deux modèles et retournez les valeurs des métriques d’évaluation: précision globale (accuracy) et précision, rappel et F1-score par classe. Affichez aussi les macro moyennes pour toutes ces métriques."
      ],
      "id": "lTO1YUWd42hr"
    },
    {
      "cell_type": "code",
      "metadata": {
        "id": "ADiLxaOi42hr"
      },
      "source": [
        "y_test = le.transform(test['topic'])\n",
        "\n",
        "test_set = []\n",
        "for line in test['no_stopwords']:\n",
        "  test_set.append(' '.join(line))\n",
        "\n",
        "X1_test = tfidf_1_vec.transform(test_set)\n",
        "X2_test = tfidf_2_vec.transform(test_set)\n",
        "\n",
        "NB1_pred = NB1.predict(X1_test)\n",
        "NB2_pred = NB2.predict(X2_test)\n",
        "\n",
        "LR1_pred = LR1.predict(X1_test)\n",
        "LR2_pred = LR2.predict(X2_test)"
      ],
      "id": "ADiLxaOi42hr",
      "execution_count": 19,
      "outputs": []
    },
    {
      "cell_type": "code",
      "metadata": {
        "id": "wDWW9irWZoc4",
        "colab": {
          "base_uri": "https://localhost:8080/"
        },
        "outputId": "c7b32c52-e8f0-4a50-b0d9-05db29b9783d"
      },
      "source": [
        "print('---------------------------------------')\n",
        "print('Performances modèle sac de mots unigrame')\n",
        "print(' ')\n",
        "print('Classificateur Naïve Bayes')\n",
        "print(\"Précision Globale:\",metrics.accuracy_score(y_test, NB1_pred))\n",
        "print(\"Précision:\",metrics.precision_score(y_test, NB1_pred,average='weighted'))\n",
        "print(\"Rappel:\",metrics.recall_score(y_test, NB1_pred,average='weighted'))\n",
        "print(\"F1-score:\",metrics.f1_score(y_test, NB1_pred,average='weighted'))\n",
        "print(' ')\n",
        "print('Classificateur Régression Logistique')\n",
        "print(\"Précision Globale:\",metrics.accuracy_score(y_test, LR1_pred))\n",
        "print(\"Précision:\",metrics.precision_score(y_test, LR1_pred,average='weighted'))\n",
        "print(\"Rappel:\",metrics.recall_score(y_test, LR1_pred,average='weighted'))\n",
        "print(\"F1-score:\",metrics.f1_score(y_test, LR1_pred,average='weighted'))\n",
        "\n",
        "print('---------------------------------------')\n",
        "\n",
        "print('Performances modèle sac de mots unigrame et bigramme')\n",
        "print(' ')\n",
        "print('Classificateur Naïve Bayes')\n",
        "print(\"Précision Globale:\",metrics.accuracy_score(y_test, NB2_pred))\n",
        "print(\"Précision:\",metrics.precision_score(y_test, NB2_pred,average='weighted'))\n",
        "print(\"Rappel:\",metrics.recall_score(y_test, NB2_pred,average='weighted'))\n",
        "print(\"F1-score:\",metrics.f1_score(y_test, NB2_pred,average='weighted'))\n",
        "print(' ')\n",
        "print('Classificateur Régression Logistique')\n",
        "print(\"Précision Globale:\",metrics.accuracy_score(y_test, LR2_pred))\n",
        "print(\"Précision:\",metrics.precision_score(y_test, LR2_pred,average='weighted'))\n",
        "print(\"Rappel:\",metrics.recall_score(y_test, LR2_pred,average='weighted'))\n",
        "print(\"F1-score:\",metrics.f1_score(y_test, LR2_pred,average='weighted'))\n",
        "\n",
        "print('---------------------------------------')\n",
        "\n"
      ],
      "id": "wDWW9irWZoc4",
      "execution_count": 20,
      "outputs": [
        {
          "output_type": "stream",
          "name": "stdout",
          "text": [
            "---------------------------------------\n",
            "Performances modèle sac de mots unigrame\n",
            " \n",
            "Classificateur Naïve Bayes\n",
            "Précision Globale: 0.428\n",
            "Précision: 0.5255191572196057\n",
            "Rappel: 0.428\n",
            "F1-score: 0.33130180116074215\n",
            " \n",
            "Classificateur Régression Logistique\n",
            "Précision Globale: 0.6285\n",
            "Précision: 0.6052729556968414\n",
            "Rappel: 0.6285\n",
            "F1-score: 0.5802466913343401\n",
            "---------------------------------------\n",
            "Performances modèle sac de mots unigrame et bigramme\n",
            " \n",
            "Classificateur Naïve Bayes\n",
            "Précision Globale: 0.384\n",
            "Précision: 0.5369811430843014\n",
            "Rappel: 0.384\n",
            "F1-score: 0.25946723614327244\n",
            " \n",
            "Classificateur Régression Logistique\n",
            "Précision Globale: 0.588\n",
            "Précision: 0.6212077432588515\n",
            "Rappel: 0.588\n",
            "F1-score: 0.5185561293707905\n",
            "---------------------------------------\n"
          ]
        },
        {
          "output_type": "stream",
          "name": "stderr",
          "text": [
            "c:\\users\\pierre-lucboivin\\anaconda3\\envs\\ml\\lib\\site-packages\\sklearn\\metrics\\_classification.py:1248: UndefinedMetricWarning: Precision is ill-defined and being set to 0.0 in labels with no predicted samples. Use `zero_division` parameter to control this behavior.\n",
            "  _warn_prf(average, modifier, msg_start, len(result))\n",
            "c:\\users\\pierre-lucboivin\\anaconda3\\envs\\ml\\lib\\site-packages\\sklearn\\metrics\\_classification.py:1248: UndefinedMetricWarning: Precision is ill-defined and being set to 0.0 in labels with no predicted samples. Use `zero_division` parameter to control this behavior.\n",
            "  _warn_prf(average, modifier, msg_start, len(result))\n",
            "c:\\users\\pierre-lucboivin\\anaconda3\\envs\\ml\\lib\\site-packages\\sklearn\\metrics\\_classification.py:1248: UndefinedMetricWarning: Precision is ill-defined and being set to 0.0 in labels with no predicted samples. Use `zero_division` parameter to control this behavior.\n",
            "  _warn_prf(average, modifier, msg_start, len(result))\n",
            "c:\\users\\pierre-lucboivin\\anaconda3\\envs\\ml\\lib\\site-packages\\sklearn\\metrics\\_classification.py:1248: UndefinedMetricWarning: Precision is ill-defined and being set to 0.0 in labels with no predicted samples. Use `zero_division` parameter to control this behavior.\n",
            "  _warn_prf(average, modifier, msg_start, len(result))\n"
          ]
        }
      ]
    },
    {
      "cell_type": "markdown",
      "metadata": {
        "id": "YR1S3_9G42hr"
      },
      "source": [
        "4. (10 points) Trouvez les paramètres optimaux en utilisant un pipeline et GridSearch. Retournez la configuration optimale et sa performance pour chaque algorithme (Naive Bayes, Régression logistique) avec cette configuration en testant les paramètres suivants: \n",
        "- Modèle basé sur les mots ou les caractères\n",
        "- Type de n-gramme (1, 2 et leur combinaison) \n",
        "- Utilisation ou non de TF-IDF\n",
        "- Minuscule avec TF-IDF ou non\n",
        "- Taille du vocabulaire: 5000, 10000, none\n",
        "- Pour Naive Bayes, testez différentes valeurs du paramètre alpha (bayes__alpha)\n",
        "- Pour la régression logistique, testez aussi différentes stratégies de régularisation (logistic_penalty)"
      ],
      "id": "YR1S3_9G42hr"
    },
    {
      "cell_type": "code",
      "metadata": {
        "id": "hGe1U2227bua",
        "colab": {
          "base_uri": "https://localhost:8080/",
          "height": 531
        },
        "outputId": "c623b591-da10-4c1b-f7f0-d48b36a988ab"
      },
      "source": [
        "pipe = Pipeline(steps=[('tfidf', TfidfVectorizer()), ('nb', MultinomialNB())])\n",
        "\n",
        "param_grid = {'tfidf__analyzer': ['word','char'],\n",
        "              'tfidf__ngram_range' : [(1,1), (1,2), (2,2)],\n",
        "              'tfidf__use_idf' : [True, False],\n",
        "              'tfidf__lowercase': [True,False],\n",
        "              'tfidf__max_features' : [5000,10000,None],\n",
        "              'nb__alpha': [0.001, 0.01, 0.1, 1]}\n",
        "\n",
        "grid = GridSearchCV(pipe, param_grid, refit = True, verbose = 3,n_jobs=-1) \n",
        "grid.fit(train['text'], train_labels) \n",
        "NB_best_params = grid.best_params_"
      ],
      "id": "hGe1U2227bua",
      "execution_count": null,
      "outputs": [
        {
          "output_type": "stream",
          "name": "stdout",
          "text": [
            "Fitting 5 folds for each of 288 candidates, totalling 1440 fits\n"
          ]
        },
        {
          "output_type": "stream",
          "name": "stderr",
          "text": [
            "/usr/local/lib/python3.7/dist-packages/sklearn/model_selection/_split.py:667: UserWarning: The least populated class in y has only 1 members, which is less than n_splits=5.\n",
            "  % (min_groups, self.n_splits)), UserWarning)\n",
            "[Parallel(n_jobs=-1)]: Using backend LokyBackend with 2 concurrent workers.\n",
            "[Parallel(n_jobs=-1)]: Done  28 tasks      | elapsed:   59.6s\n",
            "/usr/local/lib/python3.7/dist-packages/joblib/externals/loky/process_executor.py:691: UserWarning: A worker stopped while some jobs were given to the executor. This can be caused by a too short worker timeout or by a memory leak.\n",
            "  \"timeout or by a memory leak.\", UserWarning\n",
            "[Parallel(n_jobs=-1)]: Done 124 tasks      | elapsed:  4.5min\n"
          ]
        },
        {
          "output_type": "error",
          "ename": "KeyboardInterrupt",
          "evalue": "ignored",
          "traceback": [
            "\u001b[0;31m---------------------------------------------------------------------------\u001b[0m",
            "\u001b[0;31mKeyboardInterrupt\u001b[0m                         Traceback (most recent call last)",
            "\u001b[0;32m<ipython-input-145-59d920fe57bd>\u001b[0m in \u001b[0;36m<module>\u001b[0;34m()\u001b[0m\n\u001b[1;32m     15\u001b[0m \u001b[0;34m\u001b[0m\u001b[0m\n\u001b[1;32m     16\u001b[0m \u001b[0mgrid\u001b[0m \u001b[0;34m=\u001b[0m \u001b[0mGridSearchCV\u001b[0m\u001b[0;34m(\u001b[0m\u001b[0mpipe\u001b[0m\u001b[0;34m,\u001b[0m \u001b[0mparam_grid\u001b[0m\u001b[0;34m,\u001b[0m \u001b[0mrefit\u001b[0m \u001b[0;34m=\u001b[0m \u001b[0;32mTrue\u001b[0m\u001b[0;34m,\u001b[0m \u001b[0mverbose\u001b[0m \u001b[0;34m=\u001b[0m \u001b[0;36m3\u001b[0m\u001b[0;34m,\u001b[0m\u001b[0mn_jobs\u001b[0m\u001b[0;34m=\u001b[0m\u001b[0;34m-\u001b[0m\u001b[0;36m1\u001b[0m\u001b[0;34m)\u001b[0m\u001b[0;34m\u001b[0m\u001b[0;34m\u001b[0m\u001b[0m\n\u001b[0;32m---> 17\u001b[0;31m \u001b[0mgrid\u001b[0m\u001b[0;34m.\u001b[0m\u001b[0mfit\u001b[0m\u001b[0;34m(\u001b[0m\u001b[0mtrain\u001b[0m\u001b[0;34m[\u001b[0m\u001b[0;34m'text'\u001b[0m\u001b[0;34m]\u001b[0m\u001b[0;34m,\u001b[0m \u001b[0mtrain_labels\u001b[0m\u001b[0;34m)\u001b[0m\u001b[0;34m\u001b[0m\u001b[0;34m\u001b[0m\u001b[0m\n\u001b[0m\u001b[1;32m     18\u001b[0m \u001b[0mNB1_best_params\u001b[0m \u001b[0;34m=\u001b[0m \u001b[0mgrid\u001b[0m\u001b[0;34m.\u001b[0m\u001b[0mbest_params_\u001b[0m\u001b[0;34m\u001b[0m\u001b[0;34m\u001b[0m\u001b[0m\n\u001b[1;32m     19\u001b[0m \u001b[0;34m\u001b[0m\u001b[0m\n",
            "\u001b[0;32m/usr/local/lib/python3.7/dist-packages/sklearn/model_selection/_search.py\u001b[0m in \u001b[0;36mfit\u001b[0;34m(self, X, y, groups, **fit_params)\u001b[0m\n\u001b[1;32m    708\u001b[0m                 \u001b[0;32mreturn\u001b[0m \u001b[0mresults\u001b[0m\u001b[0;34m\u001b[0m\u001b[0;34m\u001b[0m\u001b[0m\n\u001b[1;32m    709\u001b[0m \u001b[0;34m\u001b[0m\u001b[0m\n\u001b[0;32m--> 710\u001b[0;31m             \u001b[0mself\u001b[0m\u001b[0;34m.\u001b[0m\u001b[0m_run_search\u001b[0m\u001b[0;34m(\u001b[0m\u001b[0mevaluate_candidates\u001b[0m\u001b[0;34m)\u001b[0m\u001b[0;34m\u001b[0m\u001b[0;34m\u001b[0m\u001b[0m\n\u001b[0m\u001b[1;32m    711\u001b[0m \u001b[0;34m\u001b[0m\u001b[0m\n\u001b[1;32m    712\u001b[0m         \u001b[0;31m# For multi-metric evaluation, store the best_index_, best_params_ and\u001b[0m\u001b[0;34m\u001b[0m\u001b[0;34m\u001b[0m\u001b[0;34m\u001b[0m\u001b[0m\n",
            "\u001b[0;32m/usr/local/lib/python3.7/dist-packages/sklearn/model_selection/_search.py\u001b[0m in \u001b[0;36m_run_search\u001b[0;34m(self, evaluate_candidates)\u001b[0m\n\u001b[1;32m   1149\u001b[0m     \u001b[0;32mdef\u001b[0m \u001b[0m_run_search\u001b[0m\u001b[0;34m(\u001b[0m\u001b[0mself\u001b[0m\u001b[0;34m,\u001b[0m \u001b[0mevaluate_candidates\u001b[0m\u001b[0;34m)\u001b[0m\u001b[0;34m:\u001b[0m\u001b[0;34m\u001b[0m\u001b[0;34m\u001b[0m\u001b[0m\n\u001b[1;32m   1150\u001b[0m         \u001b[0;34m\"\"\"Search all candidates in param_grid\"\"\"\u001b[0m\u001b[0;34m\u001b[0m\u001b[0;34m\u001b[0m\u001b[0m\n\u001b[0;32m-> 1151\u001b[0;31m         \u001b[0mevaluate_candidates\u001b[0m\u001b[0;34m(\u001b[0m\u001b[0mParameterGrid\u001b[0m\u001b[0;34m(\u001b[0m\u001b[0mself\u001b[0m\u001b[0;34m.\u001b[0m\u001b[0mparam_grid\u001b[0m\u001b[0;34m)\u001b[0m\u001b[0;34m)\u001b[0m\u001b[0;34m\u001b[0m\u001b[0;34m\u001b[0m\u001b[0m\n\u001b[0m\u001b[1;32m   1152\u001b[0m \u001b[0;34m\u001b[0m\u001b[0m\n\u001b[1;32m   1153\u001b[0m \u001b[0;34m\u001b[0m\u001b[0m\n",
            "\u001b[0;32m/usr/local/lib/python3.7/dist-packages/sklearn/model_selection/_search.py\u001b[0m in \u001b[0;36mevaluate_candidates\u001b[0;34m(candidate_params)\u001b[0m\n\u001b[1;32m    687\u001b[0m                                \u001b[0;32mfor\u001b[0m \u001b[0mparameters\u001b[0m\u001b[0;34m,\u001b[0m \u001b[0;34m(\u001b[0m\u001b[0mtrain\u001b[0m\u001b[0;34m,\u001b[0m \u001b[0mtest\u001b[0m\u001b[0;34m)\u001b[0m\u001b[0;34m\u001b[0m\u001b[0;34m\u001b[0m\u001b[0m\n\u001b[1;32m    688\u001b[0m                                in product(candidate_params,\n\u001b[0;32m--> 689\u001b[0;31m                                           cv.split(X, y, groups)))\n\u001b[0m\u001b[1;32m    690\u001b[0m \u001b[0;34m\u001b[0m\u001b[0m\n\u001b[1;32m    691\u001b[0m                 \u001b[0;32mif\u001b[0m \u001b[0mlen\u001b[0m\u001b[0;34m(\u001b[0m\u001b[0mout\u001b[0m\u001b[0;34m)\u001b[0m \u001b[0;34m<\u001b[0m \u001b[0;36m1\u001b[0m\u001b[0;34m:\u001b[0m\u001b[0;34m\u001b[0m\u001b[0;34m\u001b[0m\u001b[0m\n",
            "\u001b[0;32m/usr/local/lib/python3.7/dist-packages/joblib/parallel.py\u001b[0m in \u001b[0;36m__call__\u001b[0;34m(self, iterable)\u001b[0m\n\u001b[1;32m   1052\u001b[0m \u001b[0;34m\u001b[0m\u001b[0m\n\u001b[1;32m   1053\u001b[0m             \u001b[0;32mwith\u001b[0m \u001b[0mself\u001b[0m\u001b[0;34m.\u001b[0m\u001b[0m_backend\u001b[0m\u001b[0;34m.\u001b[0m\u001b[0mretrieval_context\u001b[0m\u001b[0;34m(\u001b[0m\u001b[0;34m)\u001b[0m\u001b[0;34m:\u001b[0m\u001b[0;34m\u001b[0m\u001b[0;34m\u001b[0m\u001b[0m\n\u001b[0;32m-> 1054\u001b[0;31m                 \u001b[0mself\u001b[0m\u001b[0;34m.\u001b[0m\u001b[0mretrieve\u001b[0m\u001b[0;34m(\u001b[0m\u001b[0;34m)\u001b[0m\u001b[0;34m\u001b[0m\u001b[0;34m\u001b[0m\u001b[0m\n\u001b[0m\u001b[1;32m   1055\u001b[0m             \u001b[0;31m# Make sure that we get a last message telling us we are done\u001b[0m\u001b[0;34m\u001b[0m\u001b[0;34m\u001b[0m\u001b[0;34m\u001b[0m\u001b[0m\n\u001b[1;32m   1056\u001b[0m             \u001b[0melapsed_time\u001b[0m \u001b[0;34m=\u001b[0m \u001b[0mtime\u001b[0m\u001b[0;34m.\u001b[0m\u001b[0mtime\u001b[0m\u001b[0;34m(\u001b[0m\u001b[0;34m)\u001b[0m \u001b[0;34m-\u001b[0m \u001b[0mself\u001b[0m\u001b[0;34m.\u001b[0m\u001b[0m_start_time\u001b[0m\u001b[0;34m\u001b[0m\u001b[0;34m\u001b[0m\u001b[0m\n",
            "\u001b[0;32m/usr/local/lib/python3.7/dist-packages/joblib/parallel.py\u001b[0m in \u001b[0;36mretrieve\u001b[0;34m(self)\u001b[0m\n\u001b[1;32m    931\u001b[0m             \u001b[0;32mtry\u001b[0m\u001b[0;34m:\u001b[0m\u001b[0;34m\u001b[0m\u001b[0;34m\u001b[0m\u001b[0m\n\u001b[1;32m    932\u001b[0m                 \u001b[0;32mif\u001b[0m \u001b[0mgetattr\u001b[0m\u001b[0;34m(\u001b[0m\u001b[0mself\u001b[0m\u001b[0;34m.\u001b[0m\u001b[0m_backend\u001b[0m\u001b[0;34m,\u001b[0m \u001b[0;34m'supports_timeout'\u001b[0m\u001b[0;34m,\u001b[0m \u001b[0;32mFalse\u001b[0m\u001b[0;34m)\u001b[0m\u001b[0;34m:\u001b[0m\u001b[0;34m\u001b[0m\u001b[0;34m\u001b[0m\u001b[0m\n\u001b[0;32m--> 933\u001b[0;31m                     \u001b[0mself\u001b[0m\u001b[0;34m.\u001b[0m\u001b[0m_output\u001b[0m\u001b[0;34m.\u001b[0m\u001b[0mextend\u001b[0m\u001b[0;34m(\u001b[0m\u001b[0mjob\u001b[0m\u001b[0;34m.\u001b[0m\u001b[0mget\u001b[0m\u001b[0;34m(\u001b[0m\u001b[0mtimeout\u001b[0m\u001b[0;34m=\u001b[0m\u001b[0mself\u001b[0m\u001b[0;34m.\u001b[0m\u001b[0mtimeout\u001b[0m\u001b[0;34m)\u001b[0m\u001b[0;34m)\u001b[0m\u001b[0;34m\u001b[0m\u001b[0;34m\u001b[0m\u001b[0m\n\u001b[0m\u001b[1;32m    934\u001b[0m                 \u001b[0;32melse\u001b[0m\u001b[0;34m:\u001b[0m\u001b[0;34m\u001b[0m\u001b[0;34m\u001b[0m\u001b[0m\n\u001b[1;32m    935\u001b[0m                     \u001b[0mself\u001b[0m\u001b[0;34m.\u001b[0m\u001b[0m_output\u001b[0m\u001b[0;34m.\u001b[0m\u001b[0mextend\u001b[0m\u001b[0;34m(\u001b[0m\u001b[0mjob\u001b[0m\u001b[0;34m.\u001b[0m\u001b[0mget\u001b[0m\u001b[0;34m(\u001b[0m\u001b[0;34m)\u001b[0m\u001b[0;34m)\u001b[0m\u001b[0;34m\u001b[0m\u001b[0;34m\u001b[0m\u001b[0m\n",
            "\u001b[0;32m/usr/local/lib/python3.7/dist-packages/joblib/_parallel_backends.py\u001b[0m in \u001b[0;36mwrap_future_result\u001b[0;34m(future, timeout)\u001b[0m\n\u001b[1;32m    540\u001b[0m         AsyncResults.get from multiprocessing.\"\"\"\n\u001b[1;32m    541\u001b[0m         \u001b[0;32mtry\u001b[0m\u001b[0;34m:\u001b[0m\u001b[0;34m\u001b[0m\u001b[0;34m\u001b[0m\u001b[0m\n\u001b[0;32m--> 542\u001b[0;31m             \u001b[0;32mreturn\u001b[0m \u001b[0mfuture\u001b[0m\u001b[0;34m.\u001b[0m\u001b[0mresult\u001b[0m\u001b[0;34m(\u001b[0m\u001b[0mtimeout\u001b[0m\u001b[0;34m=\u001b[0m\u001b[0mtimeout\u001b[0m\u001b[0;34m)\u001b[0m\u001b[0;34m\u001b[0m\u001b[0;34m\u001b[0m\u001b[0m\n\u001b[0m\u001b[1;32m    543\u001b[0m         \u001b[0;32mexcept\u001b[0m \u001b[0mCfTimeoutError\u001b[0m \u001b[0;32mas\u001b[0m \u001b[0me\u001b[0m\u001b[0;34m:\u001b[0m\u001b[0;34m\u001b[0m\u001b[0;34m\u001b[0m\u001b[0m\n\u001b[1;32m    544\u001b[0m             \u001b[0;32mraise\u001b[0m \u001b[0mTimeoutError\u001b[0m \u001b[0;32mfrom\u001b[0m \u001b[0me\u001b[0m\u001b[0;34m\u001b[0m\u001b[0;34m\u001b[0m\u001b[0m\n",
            "\u001b[0;32m/usr/lib/python3.7/concurrent/futures/_base.py\u001b[0m in \u001b[0;36mresult\u001b[0;34m(self, timeout)\u001b[0m\n\u001b[1;32m    428\u001b[0m                 \u001b[0;32mreturn\u001b[0m \u001b[0mself\u001b[0m\u001b[0;34m.\u001b[0m\u001b[0m__get_result\u001b[0m\u001b[0;34m(\u001b[0m\u001b[0;34m)\u001b[0m\u001b[0;34m\u001b[0m\u001b[0;34m\u001b[0m\u001b[0m\n\u001b[1;32m    429\u001b[0m \u001b[0;34m\u001b[0m\u001b[0m\n\u001b[0;32m--> 430\u001b[0;31m             \u001b[0mself\u001b[0m\u001b[0;34m.\u001b[0m\u001b[0m_condition\u001b[0m\u001b[0;34m.\u001b[0m\u001b[0mwait\u001b[0m\u001b[0;34m(\u001b[0m\u001b[0mtimeout\u001b[0m\u001b[0;34m)\u001b[0m\u001b[0;34m\u001b[0m\u001b[0;34m\u001b[0m\u001b[0m\n\u001b[0m\u001b[1;32m    431\u001b[0m \u001b[0;34m\u001b[0m\u001b[0m\n\u001b[1;32m    432\u001b[0m             \u001b[0;32mif\u001b[0m \u001b[0mself\u001b[0m\u001b[0;34m.\u001b[0m\u001b[0m_state\u001b[0m \u001b[0;32min\u001b[0m \u001b[0;34m[\u001b[0m\u001b[0mCANCELLED\u001b[0m\u001b[0;34m,\u001b[0m \u001b[0mCANCELLED_AND_NOTIFIED\u001b[0m\u001b[0;34m]\u001b[0m\u001b[0;34m:\u001b[0m\u001b[0;34m\u001b[0m\u001b[0;34m\u001b[0m\u001b[0m\n",
            "\u001b[0;32m/usr/lib/python3.7/threading.py\u001b[0m in \u001b[0;36mwait\u001b[0;34m(self, timeout)\u001b[0m\n\u001b[1;32m    294\u001b[0m         \u001b[0;32mtry\u001b[0m\u001b[0;34m:\u001b[0m    \u001b[0;31m# restore state no matter what (e.g., KeyboardInterrupt)\u001b[0m\u001b[0;34m\u001b[0m\u001b[0;34m\u001b[0m\u001b[0m\n\u001b[1;32m    295\u001b[0m             \u001b[0;32mif\u001b[0m \u001b[0mtimeout\u001b[0m \u001b[0;32mis\u001b[0m \u001b[0;32mNone\u001b[0m\u001b[0;34m:\u001b[0m\u001b[0;34m\u001b[0m\u001b[0;34m\u001b[0m\u001b[0m\n\u001b[0;32m--> 296\u001b[0;31m                 \u001b[0mwaiter\u001b[0m\u001b[0;34m.\u001b[0m\u001b[0macquire\u001b[0m\u001b[0;34m(\u001b[0m\u001b[0;34m)\u001b[0m\u001b[0;34m\u001b[0m\u001b[0;34m\u001b[0m\u001b[0m\n\u001b[0m\u001b[1;32m    297\u001b[0m                 \u001b[0mgotit\u001b[0m \u001b[0;34m=\u001b[0m \u001b[0;32mTrue\u001b[0m\u001b[0;34m\u001b[0m\u001b[0;34m\u001b[0m\u001b[0m\n\u001b[1;32m    298\u001b[0m             \u001b[0;32melse\u001b[0m\u001b[0;34m:\u001b[0m\u001b[0;34m\u001b[0m\u001b[0;34m\u001b[0m\u001b[0m\n",
            "\u001b[0;31mKeyboardInterrupt\u001b[0m: "
          ]
        }
      ]
    },
    {
      "cell_type": "code",
      "metadata": {
        "id": "KOpjG-tYEw8R"
      },
      "source": [
        "pipe = Pipeline(steps=[('tfidf', TfidfVectorizer()), ('lr', LogisticRegression())])\n",
        "\n",
        "param_grid = {'tfidf__analyzer': ['word','char'],\n",
        "              'tfidf__ngram_range' : [(1,1), (1,2), (2,2)],\n",
        "              'tfidf__use_idf' : [True, False],\n",
        "              'tfidf__lowercase': [True,False],\n",
        "              'tfidf__max_features' : [5000,10000,None],\n",
        "              'lr__penalty': ['l1', 'l2', 'elasticnet', 'none']}\n",
        "\n",
        "grid = GridSearchCV(pipe, param_grid, refit = True, verbose = 3,n_jobs=-1) \n",
        "grid.fit(train['text'], train_labels) \n",
        "LR_best_params = grid.best_params_"
      ],
      "id": "KOpjG-tYEw8R",
      "execution_count": null,
      "outputs": []
    },
    {
      "cell_type": "markdown",
      "metadata": {
        "id": "GcJl54em42hr"
      },
      "source": [
        "### 5.3. Classification neuronale (45%)"
      ],
      "id": "GcJl54em42hr"
    },
    {
      "cell_type": "markdown",
      "metadata": {
        "id": "TIrl3WOR42hs"
      },
      "source": [
        "1. (10 points) Implémentez un modèle à deux couches Bi-LSTM avec Keras sans plongements pré-entrainés et entrainez-le sur l’ensemble d’entrainement (voir les points suivants). Assurez-vous que votre séquence maximale prenne en compte la plus longue séquence de votre ensemble de données d’entrainement."
      ],
      "id": "TIrl3WOR42hs"
    },
    {
      "cell_type": "code",
      "metadata": {
        "id": "4BrwHlzzrtth"
      },
      "source": [
        "df = train.copy()\n",
        "df = df.append(valid.copy())\n",
        "\n",
        "# df = df.reset_index(drop=True)\n",
        "# REPLACE_BY_SPACE_RE = re.compile('[/(){}\\[\\]\\|@,;]')\n",
        "# BAD_SYMBOLS_RE = re.compile('[^0-9a-z #+_]')\n",
        "# STOPWORDS = set(stopwords.words('english'))\n",
        "\n",
        "# def clean_text(text):\n",
        "#     \"\"\"\n",
        "#         text: a string\n",
        "        \n",
        "#         return: modified initial string\n",
        "#     \"\"\"\n",
        "#     text = text.lower() # lowercase text\n",
        "#     text = REPLACE_BY_SPACE_RE.sub(' ', text) # replace REPLACE_BY_SPACE_RE symbols by space in text. substitute the matched string in REPLACE_BY_SPACE_RE with space.\n",
        "#     text = BAD_SYMBOLS_RE.sub('', text) # remove symbols which are in BAD_SYMBOLS_RE from text. substitute the matched string in BAD_SYMBOLS_RE with nothing. \n",
        "#     text = text.replace('x', '')\n",
        "# #    text = re.sub(r'\\W+', '', text)\n",
        "#     text = ' '.join(word for word in text.split() if word not in STOPWORDS) # remove stopwors from text\n",
        "#     return text\n",
        "\n",
        "# df['text'] = df['text'].apply(clean_text)\n",
        "# df['text'] = df['text'].str.replace('\\d+', '')\n",
        "# df['text'] = df['text'].str.replace('urllink', '')\n",
        "\n",
        "\n"
      ],
      "id": "4BrwHlzzrtth",
      "execution_count": 8,
      "outputs": []
    },
    {
      "cell_type": "code",
      "metadata": {
        "colab": {
          "base_uri": "https://localhost:8080/"
        },
        "id": "7GhUnpAnsPdw",
        "outputId": "ad8d22c4-7419-4140-8246-56708e94fe3f"
      },
      "source": [
        "# The maximum number of words to be used. (most frequent)\n",
        "MAX_NB_WORDS = 50000\n",
        "# Max number of words in each complaint.\n",
        "# MAX_SEQUENCE_LENGTH = 0\n",
        "# for line in df['no_stopwords']:\n",
        "#   if len(line) > MAX_SEQUENCE_LENGTH:\n",
        "#     MAX_SEQUENCE_LENGTH = len(line)\n",
        "\n",
        "MAX_SEQUENCE_LENGTH = 250\n",
        "\n",
        "# This is fixed.\n",
        "EMBEDDING_DIM = 100\n",
        "tokenizer = tf.keras.preprocessing.text.Tokenizer(num_words=MAX_NB_WORDS, filters='!\"#$%&()*+,-./:;<=>?@[\\]^_`{|}~', lower=True)\n",
        "tokenizer.fit_on_texts(df['no_stopwords'].values)\n",
        "word_index = tokenizer.word_index\n",
        "print('Found %s unique tokens.' % len(word_index))"
      ],
      "id": "7GhUnpAnsPdw",
      "execution_count": 9,
      "outputs": [
        {
          "output_type": "stream",
          "name": "stdout",
          "text": [
            "Found 54997 unique tokens.\n"
          ]
        }
      ]
    },
    {
      "cell_type": "code",
      "metadata": {
        "colab": {
          "base_uri": "https://localhost:8080/"
        },
        "id": "R2WWqQcLtH2c",
        "outputId": "fbc1804d-6d86-4084-83f5-b734f7264ae4"
      },
      "source": [
        "X = tokenizer.texts_to_sequences(df['no_stopwords'].values)\n",
        "X = tf.keras.preprocessing.sequence.pad_sequences(X, maxlen=MAX_SEQUENCE_LENGTH)\n",
        "print('Shape of data tensor:', X.shape)"
      ],
      "id": "R2WWqQcLtH2c",
      "execution_count": 10,
      "outputs": [
        {
          "output_type": "stream",
          "name": "stdout",
          "text": [
            "Shape of data tensor: (8000, 250)\n"
          ]
        }
      ]
    },
    {
      "cell_type": "code",
      "metadata": {
        "colab": {
          "base_uri": "https://localhost:8080/"
        },
        "id": "lUo7C0xptUEJ",
        "outputId": "ef6cc136-a837-4fb2-93d1-66a77ff4edea"
      },
      "source": [
        "Y = pd.get_dummies(df['topic']).values\n",
        "print('Shape of label tensor:', Y.shape)"
      ],
      "id": "lUo7C0xptUEJ",
      "execution_count": 11,
      "outputs": [
        {
          "output_type": "stream",
          "name": "stdout",
          "text": [
            "Shape of label tensor: (8000, 26)\n"
          ]
        }
      ]
    },
    {
      "cell_type": "code",
      "metadata": {
        "colab": {
          "base_uri": "https://localhost:8080/"
        },
        "id": "pXJuKxgstYwx",
        "outputId": "a585289d-602e-4303-e540-7c007571c882"
      },
      "source": [
        "X_train = X[0:7000]\n",
        "X_test = X[7000:8000]\n",
        "\n",
        "Y_train = Y[0:7000]\n",
        "Y_test = Y[7000:8000]\n",
        "\n",
        "print(X_train.shape,Y_train.shape)\n",
        "print(X_test.shape,Y_test.shape)"
      ],
      "id": "pXJuKxgstYwx",
      "execution_count": 20,
      "outputs": [
        {
          "output_type": "stream",
          "name": "stdout",
          "text": [
            "(7000, 250) (7000, 26)\n",
            "(1000, 250) (1000, 26)\n"
          ]
        }
      ]
    },
    {
      "cell_type": "code",
      "metadata": {
        "id": "BigNF-t1uWrM"
      },
      "source": [
        "model = Sequential()\n",
        "model.add(Embedding(MAX_NB_WORDS, EMBEDDING_DIM, input_length=X.shape[1]))\n",
        "model.add(Bidirectional(LSTM(64, dropout=0.2, recurrent_dropout=0.2)))\n",
        "model.add(Dense(26, activation='softmax'))\n",
        "\n",
        "model.compile(loss='categorical_crossentropy', optimizer='adam', metrics=['accuracy'])\n",
        "\n",
        "epochs = 5\n",
        "batch_size = 64"
      ],
      "id": "BigNF-t1uWrM",
      "execution_count": 21,
      "outputs": []
    },
    {
      "cell_type": "markdown",
      "metadata": {
        "id": "ci79HU6I42hs"
      },
      "source": [
        "2. (2 points) Effectuez un «EarlyStopping» prenant en compte une «val_loss» minimale et en attendant 3 époques."
      ],
      "id": "ci79HU6I42hs"
    },
    {
      "cell_type": "code",
      "metadata": {
        "id": "yqrtNUMt42hs",
        "colab": {
          "base_uri": "https://localhost:8080/"
        },
        "outputId": "6114a99a-5cdb-4f2e-b8d4-7900f6b10e1e"
      },
      "source": [
        "cp_callback = ModelCheckpoint(filepath=PATH+'checkpoint_5_3_2', save_weights_only=True,monitor='val_acc',mode='max',save_best_only=True)\n",
        "history = model.fit(X_train, Y_train, epochs=epochs, batch_size=batch_size,validation_data=(X_test, Y_test),callbacks=[EarlyStopping(monitor='val_loss', patience=3, min_delta=0.0001), cp_callback])\n"
      ],
      "id": "yqrtNUMt42hs",
      "execution_count": 22,
      "outputs": [
        {
          "output_type": "stream",
          "name": "stdout",
          "text": [
            "Train on 7000 samples, validate on 1000 samples\n",
            "Epoch 1/5\n",
            "7000/7000 [==============================] - 83s 12ms/sample - loss: 2.0440 - acc: 0.3297 - val_loss: 1.7364 - val_acc: 0.3900\n",
            "Epoch 2/5\n",
            "7000/7000 [==============================] - 82s 12ms/sample - loss: 1.6770 - acc: 0.4564 - val_loss: 1.5085 - val_acc: 0.4930\n",
            "Epoch 3/5\n",
            "7000/7000 [==============================] - 82s 12ms/sample - loss: 1.2777 - acc: 0.6230 - val_loss: 1.3850 - val_acc: 0.5620\n",
            "Epoch 4/5\n",
            "7000/7000 [==============================] - 82s 12ms/sample - loss: 0.9007 - acc: 0.7479 - val_loss: 1.4615 - val_acc: 0.5540\n",
            "Epoch 5/5\n",
            "7000/7000 [==============================] - 81s 12ms/sample - loss: 0.6807 - acc: 0.8044 - val_loss: 1.5778 - val_acc: 0.5600\n"
          ]
        }
      ]
    },
    {
      "cell_type": "markdown",
      "metadata": {
        "id": "mq9SMPbl42hs"
      },
      "source": [
        "3. (2 points) En utilisant un ModelCheckpoint, sauvegardez votre meilleur modèle pour lequel la métrique «val_accuracy» soit maximale."
      ],
      "id": "mq9SMPbl42hs"
    },
    {
      "cell_type": "code",
      "metadata": {
        "id": "LGvlcUE642hs",
        "outputId": "b38ac0a3-910c-48e5-e7e0-0962656ba64d",
        "colab": {
          "base_uri": "https://localhost:8080/"
        }
      },
      "source": [
        "# Referer a la question precedente\n",
        "model.load_weights(PATH+'checkpoint_5_3_2')\n"
      ],
      "id": "LGvlcUE642hs",
      "execution_count": 24,
      "outputs": [
        {
          "output_type": "execute_result",
          "data": {
            "text/plain": [
              "<tensorflow.python.training.tracking.util.CheckpointLoadStatus at 0x11e938fb080>"
            ]
          },
          "metadata": {},
          "execution_count": 24
        }
      ]
    },
    {
      "cell_type": "markdown",
      "metadata": {
        "id": "pSUWykTc42hs"
      },
      "source": [
        "4. (5 points) Affichez dans une figure la fonction de perte / époque sur le jeu de données d’entrainement (train) et de validation (val). Voir l'énoncé pour un exemple de figure."
      ],
      "id": "pSUWykTc42hs"
    },
    {
      "cell_type": "code",
      "metadata": {
        "id": "HRAsaGo542hs"
      },
      "source": [
        ""
      ],
      "id": "HRAsaGo542hs",
      "execution_count": null,
      "outputs": []
    },
    {
      "cell_type": "markdown",
      "metadata": {
        "id": "AqW0DTcL42hs"
      },
      "source": [
        "5. (5 points) Affichez dans une figure la précision globale (accuracy)/ époque sur le jeu de données d’entrainement (train) et de validation (val). Voir l'énoncé pour un exemple de figure."
      ],
      "id": "AqW0DTcL42hs"
    },
    {
      "cell_type": "code",
      "metadata": {
        "id": "RlMycwBA42ht"
      },
      "source": [
        ""
      ],
      "id": "RlMycwBA42ht",
      "execution_count": null,
      "outputs": []
    },
    {
      "cell_type": "markdown",
      "metadata": {
        "id": "qvHPSJpj42ht"
      },
      "source": [
        "6. (2 points) Chargez le meilleur modèle retenu, et affichez les performances de ce meilleur modèle sur l’ensemble de test. Utilisez la métrique Accuracy. (Exemple: Accuracy: 0.82)"
      ],
      "id": "qvHPSJpj42ht"
    },
    {
      "cell_type": "code",
      "metadata": {
        "id": "T3RLSCep42ht"
      },
      "source": [
        ""
      ],
      "id": "T3RLSCep42ht",
      "execution_count": null,
      "outputs": []
    },
    {
      "cell_type": "markdown",
      "metadata": {
        "id": "h0vS68UY42ht"
      },
      "source": [
        "7. (10 points) En utilisant des plongements lexicaux pré-entrainés GLOVE, implémentez un modèle Bi-LSTM à deux couches avec Keras utilisant ces plongements et avec les mêmes critères d’EarlyStopping et de ModelCheckpoint que précédemment, et entrainez-le sur l’ensemble d’entrainement. Sauvegardez votre meilleur modèle. "
      ],
      "id": "h0vS68UY42ht"
    },
    {
      "cell_type": "code",
      "metadata": {
        "id": "b_-lOlEE42ht"
      },
      "source": [
        ""
      ],
      "id": "b_-lOlEE42ht",
      "execution_count": null,
      "outputs": []
    },
    {
      "cell_type": "markdown",
      "metadata": {
        "id": "x3LhQE3u42ht"
      },
      "source": [
        "8. (2 points) De la même manière que précédemment, affichez dans deux figures la fonction de perte et la précision globale (accuracy) / époque sur le jeu de données d’entrainement (train) et de validation (val)."
      ],
      "id": "x3LhQE3u42ht"
    },
    {
      "cell_type": "code",
      "metadata": {
        "id": "67gfekKh42ht"
      },
      "source": [
        ""
      ],
      "id": "67gfekKh42ht",
      "execution_count": null,
      "outputs": []
    },
    {
      "cell_type": "markdown",
      "metadata": {
        "id": "lAOnr9Pt42ht"
      },
      "source": [
        "9. (2 points) Affichez les performances de votre meilleur modèle à base de plongements sur l’ensemble de test. Utilisez la métrique de précision globale (Accuracy)."
      ],
      "id": "lAOnr9Pt42ht"
    },
    {
      "cell_type": "code",
      "metadata": {
        "id": "DndZjMFf42ht"
      },
      "source": [
        ""
      ],
      "id": "DndZjMFf42ht",
      "execution_count": null,
      "outputs": []
    },
    {
      "cell_type": "markdown",
      "metadata": {
        "id": "hq43loLL42hu"
      },
      "source": [
        "10. (5 points) Si ce n’est pas déjà le cas, tentez de dépasser les performances de votre meilleur modèle traditionnel en créant un nouveau modèle Bi-LSTM (vous pouvez ajouter des couches, utiliser du dropout, utiliser d’autres modèles de plongements, etc.)"
      ],
      "id": "hq43loLL42hu"
    },
    {
      "cell_type": "code",
      "metadata": {
        "id": "YGK1X5rF42hu"
      },
      "source": [
        ""
      ],
      "id": "YGK1X5rF42hu",
      "execution_count": null,
      "outputs": []
    },
    {
      "cell_type": "markdown",
      "metadata": {
        "id": "ks2XqYU-42hu"
      },
      "source": [
        "### 5.4. Évaluation (10%)"
      ],
      "id": "ks2XqYU-42hu"
    },
    {
      "cell_type": "markdown",
      "metadata": {
        "id": "HbqRJJa042hu"
      },
      "source": [
        "1. (4 points) Affichez une table récapitulative comparant les performances de vos différents modèles sur l’ensemble de test."
      ],
      "id": "HbqRJJa042hu"
    },
    {
      "cell_type": "code",
      "metadata": {
        "id": "VvWp_NWu42hu"
      },
      "source": [
        ""
      ],
      "id": "VvWp_NWu42hu",
      "execution_count": null,
      "outputs": []
    },
    {
      "cell_type": "markdown",
      "metadata": {
        "id": "9KGF8war42hu"
      },
      "source": [
        "2. (6 points) Indiquez votre conclusion dans une cellule (Meilleur algorithme? Meilleure configuration pour l’apprentissage machine «traditionnel»? Effets du GridSearch? Meilleur modèle Bi-LSTM?)"
      ],
      "id": "9KGF8war42hu"
    },
    {
      "cell_type": "code",
      "metadata": {
        "id": "1gDrGQWH42hu"
      },
      "source": [
        ""
      ],
      "id": "1gDrGQWH42hu",
      "execution_count": null,
      "outputs": []
    },
    {
      "cell_type": "markdown",
      "metadata": {
        "id": "gI7YBgkx42hu"
      },
      "source": [
        "## LIVRABLES\n",
        "Vous devez remettre sur Moodle:\n",
        "1. Le code: Un Jupyter notebook en Python qui contient le code implanté avec les librairies permises. Le code doit être exécutable sans erreur et accompagné des commentaires appropriés dans le notebook de manière à expliquer les différentes fonctions et étapes dans votre projet. Nous nous réservons le droit de demander une démonstration ou la preuve que vous avez effectué vous-mêmes les expériences décrites. _Attention, en aucun cas votre code ne doit avoir été copié d’une quelconque source._ Les critères de qualité tels que la lisibilité du code et des commentaires sont importants. Tout votre code et vos résultats doivent être exécutables et reproductibles; \n",
        "2. Un fichier _requirements.txt_ doit indiquer toutes les librairies / données nécessaires;\n",
        "3. Un lien _GoogleDrive_ ou similaire vers les modèles nécessaires pour exécuter votre notebook si approprié;\n",
        "4. Un document _contributions.txt_: Décrivez brièvement la contribution de chaque membre de l’équipe. Tous les membres sont censés contribuer au développement. Bien que chaque membre puisseeffectuer différentes tâches, vous devez vous efforcer d’obtenir une répartition égale du travail. En particulier, tous les membres du projet devraient participer à la conception du TP et participer activement à la réflexion et à l’implémentation du code.\n",
        "\n",
        "## EVALUATION \n",
        "Votre TP sera évalué selon les critères suivants :\n",
        "1. Exécution correcte du code\n",
        "2. Performance des modèles\n",
        "3. Organisation du notebook\n",
        "4. Qualité du code (noms significatifs, structure, performance, gestion d’exception, etc.)\n",
        "5. Commentaires clairs et informatifs\n",
        "\n",
        "## CODE D’HONNEUR\n",
        "- **Règle 1:**  Le plagiat de code est bien évidemment interdit.\n",
        "- **Règle 2:** Vous êtes libres de discuter des idées et des détails de mise en œuvre avec d'autres équipes. Cependant, vous ne pouvez en aucun cas consulter le code d'une autre équipe INF8460, ou incorporer leur code dans votre TP.\n",
        "- **Règle 3:**  Vous ne pouvez pas partager votre code publiquement (par exemple, dans un dépôt GitHub public) tant que le cours n'est pas fini.\n"
      ],
      "id": "gI7YBgkx42hu"
    },
    {
      "cell_type": "code",
      "metadata": {
        "id": "DjuBJc5p42hu"
      },
      "source": [
        ""
      ],
      "id": "DjuBJc5p42hu",
      "execution_count": null,
      "outputs": []
    }
  ]
}